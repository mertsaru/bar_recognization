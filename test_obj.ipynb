{
 "cells": [
  {
   "cell_type": "code",
   "execution_count": 1,
   "metadata": {},
   "outputs": [],
   "source": [
    "from SPEP import spep"
   ]
  },
  {
   "cell_type": "code",
   "execution_count": 2,
   "metadata": {},
   "outputs": [],
   "source": [
    "# Selecting mask and reference images\n",
    "ref_name = 'datasets/dataset_1/A/A-kappa/Z_80080808_0230_IFIX1.jpg'\n",
    "mask_name = 'datasets/dataset_1/A/A-kappa/Z_80090997_0230_IFIX1.jpg'\n",
    "\n",
    "# Selecting test image for test\n",
    "test_name ='datasets/dataset_1/A/A-kappa/Z_80084399_0230_IFIX1.jpg'"
   ]
  },
  {
   "cell_type": "code",
   "execution_count": 3,
   "metadata": {},
   "outputs": [],
   "source": [
    "# Creating spep object\n",
    "test = spep(test_name)\n",
    "ref = spep(ref_name)\n",
    "mask = spep(mask_name)\n",
    "\n",
    "# Reading the images\n",
    "test.read()\n",
    "ref.read()\n",
    "mask.read()"
   ]
  },
  {
   "cell_type": "code",
   "execution_count": 4,
   "metadata": {},
   "outputs": [],
   "source": [
    "spep.albumin_reference(mask) # Finding albumin mask\n",
    "spep.barLenght_reference(ref) # Finding height of the bars\n",
    "spep.bar_finder(ref) # Finding distances of the bars"
   ]
  },
  {
   "cell_type": "code",
   "execution_count": 6,
   "metadata": {},
   "outputs": [
    {
     "data": {
      "text/plain": [
       "184"
      ]
     },
     "execution_count": 6,
     "metadata": {},
     "output_type": "execute_result"
    }
   ],
   "source": [
    "test.bar"
   ]
  },
  {
   "cell_type": "code",
   "execution_count": 5,
   "metadata": {},
   "outputs": [],
   "source": [
    "#spep.show_img(test.lambda_orj)\n",
    "spep.show_img(test.test_color)"
   ]
  },
  {
   "cell_type": "code",
   "execution_count": null,
   "metadata": {},
   "outputs": [],
   "source": [
    "test.show_graph(['test','lambda','gamma','mu','kappa','alpha']) "
   ]
  },
  {
   "cell_type": "code",
   "execution_count": null,
   "metadata": {},
   "outputs": [],
   "source": []
  }
 ],
 "metadata": {
  "kernelspec": {
   "display_name": "base",
   "language": "python",
   "name": "python3"
  },
  "language_info": {
   "codemirror_mode": {
    "name": "ipython",
    "version": 3
   },
   "file_extension": ".py",
   "mimetype": "text/x-python",
   "name": "python",
   "nbconvert_exporter": "python",
   "pygments_lexer": "ipython3",
   "version": "3.10.9"
  },
  "orig_nbformat": 4,
  "vscode": {
   "interpreter": {
    "hash": "55a5be02959900990ea77eec8cb8721b2516d046a9bfd4ce621bf88b4c0f7b11"
   }
  }
 },
 "nbformat": 4,
 "nbformat_minor": 2
}
