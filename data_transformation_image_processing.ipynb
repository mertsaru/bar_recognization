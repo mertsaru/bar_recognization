{
 "cells": [
  {
   "cell_type": "code",
   "execution_count": 2,
   "metadata": {},
   "outputs": [],
   "source": [
    "import os\n",
    "import numpy as np\n",
    "import cv2"
   ]
  },
  {
   "cell_type": "code",
   "execution_count": 3,
   "metadata": {},
   "outputs": [],
   "source": [
    "directory = 'datasets'"
   ]
  },
  {
   "cell_type": "code",
   "execution_count": 4,
   "metadata": {},
   "outputs": [
    {
     "data": {
      "text/plain": [
       "(283, 397, 3)"
      ]
     },
     "execution_count": 4,
     "metadata": {},
     "output_type": "execute_result"
    }
   ],
   "source": [
    "img = cv2.imread(\"datasets/dataset_1/G/G-kappa/Z_80090955_0230_IFIX1.jpg\")\n",
    "img.shape"
   ]
  },
  {
   "cell_type": "code",
   "execution_count": 5,
   "metadata": {},
   "outputs": [],
   "source": [
    "input_size = 1778\n",
    "inputs = np.empty([input_size, 283, 397, 3])\n",
    "\n",
    "classes = {\n",
    "    \"wo\":0,\n",
    "    \"Ak\":1,\n",
    "    \"Al\":2,\n",
    "    \"Mk\":3,\n",
    "    \"Ml\":4,\n",
    "    \"Gk\":5,\n",
    "    \"Gl\":6,\n",
    "    \"ud\":7\n",
    "}"
   ]
  },
  {
   "cell_type": "code",
   "execution_count": 6,
   "metadata": {},
   "outputs": [],
   "source": [
    "def my_iterator(number):\n",
    "    for i in range(number):\n",
    "        yield i"
   ]
  },
  {
   "cell_type": "code",
   "execution_count": 7,
   "metadata": {},
   "outputs": [],
   "source": [
    "data_range = my_iterator(input_size)\n",
    "\n",
    "for root, dir, files in os.walk(directory):\n",
    "    if root.endswith(\"A-kappa\") or root.endswith(\"Ak\"):\n",
    "        label = \"Ak\"\n",
    "    if root.endswith(\"A-lambda\") or root.endswith(\"Al\"):\n",
    "        label = \"Al\"\n",
    "    if root.endswith(\"M-kappa\") or root.endswith(\"Mk\"):\n",
    "        label = \"Mk\"\n",
    "    if root.endswith(\"M-lambda\") or root.endswith(\"Ml\"):\n",
    "        label = \"Ml\"\n",
    "    if root.endswith(\"G-kappa\") or root.endswith(\"Gk\"):\n",
    "        label = \"Gk\"\n",
    "    if root.endswith(\"G-lambda\") or root.endswith(\"Gl\"):\n",
    "        label = \"Gl\"\n",
    "    if root.endswith(\"without\"):\n",
    "        label = \"wo\"\n",
    "    if root.endswith(\"unclear decision\"):\n",
    "        label = \"ud\"\n",
    "\n",
    "    for file in files:\n",
    "        file_dir = os.path.join(root,file)\n",
    "\n",
    "        if file_dir.endswith('.jpg') and label != \"ud\":\n",
    "            index = next(data_range)\n",
    "            img = cv2.imread(file_dir)\n",
    "            \n",
    "            inputs[index] = img"
   ]
  },
  {
   "cell_type": "code",
   "execution_count": 9,
   "metadata": {},
   "outputs": [
    {
     "data": {
      "text/plain": [
       "(1778, 283, 397, 3)"
      ]
     },
     "execution_count": 9,
     "metadata": {},
     "output_type": "execute_result"
    }
   ],
   "source": [
    "inputs.shape"
   ]
  },
  {
   "cell_type": "code",
   "execution_count": 11,
   "metadata": {},
   "outputs": [],
   "source": [
    "np.save('inputs_wo_ud_for_CNN', inputs)"
   ]
  }
 ],
 "metadata": {
  "kernelspec": {
   "display_name": "spep",
   "language": "python",
   "name": "python3"
  },
  "language_info": {
   "codemirror_mode": {
    "name": "ipython",
    "version": 3
   },
   "file_extension": ".py",
   "mimetype": "text/x-python",
   "name": "python",
   "nbconvert_exporter": "python",
   "pygments_lexer": "ipython3",
   "version": "3.11.3"
  },
  "orig_nbformat": 4
 },
 "nbformat": 4,
 "nbformat_minor": 2
}
