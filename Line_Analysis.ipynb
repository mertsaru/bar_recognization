{
 "cells": [
  {
   "cell_type": "code",
   "execution_count": 1,
   "metadata": {},
   "outputs": [],
   "source": [
    "from SPEP import spep\n",
    "import os\n",
    "import numpy as np"
   ]
  },
  {
   "cell_type": "code",
   "execution_count": 2,
   "metadata": {},
   "outputs": [],
   "source": [
    "# Selecting mask and reference images\n",
    "ref_name = 'datasets/dataset_1/A/A-kappa/Z_80080808_0230_IFIX1.jpg'\n",
    "mask_name = 'datasets/dataset_1/A/A-kappa/Z_80090997_0230_IFIX1.jpg'\n",
    "directory = 'datasets'"
   ]
  },
  {
   "cell_type": "code",
   "execution_count": 3,
   "metadata": {},
   "outputs": [],
   "source": [
    "ref = spep(ref_name)\n",
    "mask = spep(mask_name)\n",
    "\n",
    "spep.albumin_reference(mask)\n",
    "spep.barLenght_reference(ref)\n",
    "spep.bar_finder(ref)"
   ]
  },
  {
   "cell_type": "code",
   "execution_count": 4,
   "metadata": {},
   "outputs": [],
   "source": [
    "count_all = 0\n",
    "count_valid = 0\n",
    "distance_ratio = {}\n",
    "distance = {}"
   ]
  },
  {
   "cell_type": "code",
   "execution_count": 38,
   "metadata": {},
   "outputs": [],
   "source": [
    "for root, dir, files in os.walk(directory):\n",
    "    for file in files:\n",
    "        file_dir = os.path.join(root,file)\n",
    "\n",
    "        if file_dir.endswith('.jpg'):\n",
    "            count_all += 1\n",
    "\n",
    "            obj = spep(file_dir)\n",
    "\n",
    "            obj.evaluate()\n",
    "            obj.find_lines(['all'],smoothRange= 5, dentRange= 10, use_combinations= True)\n",
    "            \n",
    "            if len(obj.lines) == 5:\n",
    "                count_valid += 1\n",
    "                obj.line_dist()\n",
    "                for i,(key1,value1) in enumerate(obj.dist_dict.items()):\n",
    "                    for j,(key2,value2) in enumerate(obj.dist_dict.items()):\n",
    "                        if i<=j:# or j=4:\n",
    "                            break\n",
    "                        else:\n",
    "                            if f'{key1}:{key2}' in distance_ratio:\n",
    "                                distance_ratio[f'{key1}:{key2}'].append(value1/value2)\n",
    "                            else:\n",
    "                                distance_ratio[f'{key1}:{key2}'] =[]\n",
    "                                distance_ratio[f'{key1}:{key2}'].append(value1/value2)\n",
    "\n",
    "                for key,value in obj.dist_dict.items():\n",
    "                    if key in distance:\n",
    "                        distance[key].append(value)\n",
    "                    else:\n",
    "                        distance[key] = list()\n",
    "                        distance[key].append(value)"
   ]
  },
  {
   "cell_type": "code",
   "execution_count": 23,
   "metadata": {},
   "outputs": [
    {
     "name": "stdout",
     "output_type": "stream",
     "text": [
      "#images:  5334\n",
      "valid images:  98.26 %\n",
      "bar lenght:  184\n",
      "-----------------------\n",
      "albumin - alpha1: 32.02\n",
      "-----------------------\n",
      "albumin - alpha2: 68.09\n",
      "-----------------------\n",
      "albumin - beta: 96.59\n",
      "-----------------------\n",
      "albumin - gamma: 135.64\n",
      "-----------------------\n",
      "alpha1 - alpha2: 36.07\n",
      "-----------------------\n",
      "alpha1 - beta: 64.57\n",
      "-----------------------\n",
      "alpha1 - gamma: 103.62\n",
      "-----------------------\n",
      "alpha2 - beta: 28.50\n",
      "-----------------------\n",
      "alpha2 - gamma: 67.55\n",
      "-----------------------\n",
      "beta - gamma: 39.05\n"
     ]
    }
   ],
   "source": [
    "# Writing the findings\n",
    "print('#images: ', count_all)\n",
    "print('valid images: ',round(100*count_valid/count_all,2),'%')\n",
    "print('bar lenght: ',spep.bar)\n",
    "for key, value in distance.items():\n",
    "    print('-----------------------')\n",
    "    print(f'{key}: {np.mean(value):.2f}')"
   ]
  },
  {
   "cell_type": "code",
   "execution_count": null,
   "metadata": {},
   "outputs": [
    {
     "ename": "NameError",
     "evalue": "name 'distance_ratio' is not defined",
     "output_type": "error",
     "traceback": [
      "\u001b[1;31m---------------------------------------------------------------------------\u001b[0m",
      "\u001b[1;31mNameError\u001b[0m                                 Traceback (most recent call last)",
      "\u001b[1;32mc:\\Users\\merts\\Repo\\bar_recognization\\Line_Analysis.ipynb Cell 8\u001b[0m in \u001b[0;36m<cell line: 1>\u001b[1;34m()\u001b[0m\n\u001b[1;32m----> <a href='vscode-notebook-cell:/c%3A/Users/merts/Repo/bar_recognization/Line_Analysis.ipynb#W6sZmlsZQ%3D%3D?line=0'>1</a>\u001b[0m \u001b[39mfor\u001b[39;00m key,value \u001b[39min\u001b[39;00m distance_ratio\u001b[39m.\u001b[39mitems():\n\u001b[0;32m      <a href='vscode-notebook-cell:/c%3A/Users/merts/Repo/bar_recognization/Line_Analysis.ipynb#W6sZmlsZQ%3D%3D?line=1'>2</a>\u001b[0m     \u001b[39mprint\u001b[39m(\u001b[39m'\u001b[39m\u001b[39m--------------------\u001b[39m\u001b[39m\\n\u001b[39;00m\u001b[39m'\u001b[39m\u001b[39m'\u001b[39m\u001b[39mmean \u001b[39m\u001b[39m'\u001b[39m, key,\u001b[39m'\u001b[39m\u001b[39m = \u001b[39m\u001b[39m'\u001b[39m, np\u001b[39m.\u001b[39mmean(value),\u001b[39m'\u001b[39m\u001b[39m\\n\u001b[39;00m\u001b[39m'\u001b[39m)\n\u001b[0;32m      <a href='vscode-notebook-cell:/c%3A/Users/merts/Repo/bar_recognization/Line_Analysis.ipynb#W6sZmlsZQ%3D%3D?line=2'>3</a>\u001b[0m     \u001b[39mprint\u001b[39m(\u001b[39m'\u001b[39m\u001b[39mstd \u001b[39m\u001b[39m'\u001b[39m, key,\u001b[39m'\u001b[39m\u001b[39m = \u001b[39m\u001b[39m'\u001b[39m, np\u001b[39m.\u001b[39mstd(value),\u001b[39m'\u001b[39m\u001b[39m\\n\u001b[39;00m\u001b[39m--------------------\u001b[39m\u001b[39m\\n\u001b[39;00m\u001b[39m'\u001b[39m)\n",
      "\u001b[1;31mNameError\u001b[0m: name 'distance_ratio' is not defined"
     ]
    }
   ],
   "source": [
    "for key,value in distance_ratio.items():\n",
    "    print('--------------------\\n''mean ', key,' = ', np.mean(value),'\\n')\n",
    "    print('std ', key,' = ', np.std(value),'\\n--------------------\\n')"
   ]
  },
  {
   "cell_type": "code",
   "execution_count": null,
   "metadata": {},
   "outputs": [
    {
     "name": "stdout",
     "output_type": "stream",
     "text": [
      "albumin - alpha1:albumin - gamma std: 0.071\n",
      "alpha1 - gamma:albumin - gamma std: 0.071\n",
      "alpha1 - alpha2:albumin - gamma std: 0.074\n",
      "alpha2 - beta:albumin - gamma std: 0.074\n",
      "albumin - beta:albumin - gamma std: 0.077\n",
      "beta - gamma:albumin - gamma std: 0.077\n",
      "alpha1 - beta:albumin - gamma std: 0.080\n",
      "albumin - alpha1:albumin - beta std: 0.087\n",
      "alpha1 - beta:albumin - beta std: 0.087\n",
      "alpha2 - beta:alpha1 - gamma std: 0.089\n",
      "albumin - alpha2:albumin - gamma std: 0.090\n",
      "alpha2 - gamma:albumin - gamma std: 0.090\n",
      "alpha1 - beta:alpha1 - gamma std: 0.091\n",
      "beta - gamma:alpha1 - gamma std: 0.091\n",
      "alpha1 - alpha2:alpha1 - gamma std: 0.091\n",
      "alpha2 - gamma:alpha1 - gamma std: 0.091\n",
      "alpha1 - alpha2:albumin - beta std: 0.092\n",
      "albumin - alpha2:albumin - beta std: 0.095\n",
      "alpha2 - beta:albumin - beta std: 0.095\n",
      "albumin - alpha1:albumin - alpha2 std: 0.105\n",
      "alpha1 - alpha2:albumin - alpha2 std: 0.105\n",
      "alpha2 - beta:alpha2 - gamma std: 0.112\n",
      "beta - gamma:alpha2 - gamma std: 0.112\n",
      "alpha1 - alpha2:alpha1 - beta std: 0.115\n",
      "alpha2 - beta:alpha1 - beta std: 0.115\n",
      "albumin - alpha1:alpha1 - gamma std: 0.151\n",
      "albumin - gamma:alpha1 - gamma std: 0.151\n",
      "albumin - gamma:albumin - beta std: 0.166\n",
      "beta - gamma:albumin - beta std: 0.166\n",
      "albumin - alpha2:alpha1 - gamma std: 0.183\n",
      "albumin - beta:alpha1 - gamma std: 0.185\n",
      "alpha1 - gamma:albumin - beta std: 0.193\n",
      "alpha2 - gamma:albumin - beta std: 0.198\n",
      "albumin - alpha1:alpha1 - beta std: 0.249\n",
      "albumin - beta:alpha1 - beta std: 0.249\n",
      "albumin - alpha1:alpha2 - gamma std: 0.260\n",
      "alpha1 - alpha2:alpha2 - gamma std: 0.262\n",
      "alpha1 - gamma:alpha2 - gamma std: 0.262\n",
      "alpha1 - gamma:alpha1 - beta std: 0.263\n",
      "beta - gamma:alpha1 - beta std: 0.263\n",
      "albumin - alpha2:alpha1 - beta std: 0.276\n",
      "beta - gamma:albumin - alpha2 std: 0.288\n",
      "alpha2 - gamma:alpha1 - beta std: 0.291\n",
      "alpha1 - beta:alpha2 - gamma std: 0.293\n",
      "albumin - beta:albumin - alpha2 std: 0.311\n",
      "alpha2 - beta:albumin - alpha2 std: 0.311\n",
      "alpha1 - beta:albumin - alpha2 std: 0.316\n",
      "albumin - gamma:alpha1 - beta std: 0.401\n",
      "albumin - alpha2:alpha2 - gamma std: 0.426\n",
      "albumin - gamma:alpha2 - gamma std: 0.426\n",
      "albumin - beta:alpha2 - gamma std: 0.453\n",
      "albumin - gamma:albumin - alpha2 std: 0.501\n",
      "alpha2 - gamma:albumin - alpha2 std: 0.501\n",
      "alpha1 - gamma:albumin - alpha2 std: 0.503\n",
      "albumin - alpha2:alpha1 - alpha2 std: 0.576\n",
      "albumin - alpha1:alpha1 - alpha2 std: 0.576\n",
      "alpha2 - beta:beta - gamma std: 0.600\n",
      "alpha2 - gamma:beta - gamma std: 0.600\n",
      "albumin - alpha1:beta - gamma std: 0.618\n",
      "albumin - alpha1:alpha2 - beta std: 0.630\n",
      "alpha1 - alpha2:alpha2 - beta std: 0.639\n",
      "alpha1 - beta:alpha2 - beta std: 0.639\n",
      "alpha2 - gamma:alpha2 - beta std: 0.641\n",
      "beta - gamma:alpha2 - beta std: 0.641\n",
      "albumin - alpha2:albumin - alpha1 std: 0.652\n",
      "alpha1 - alpha2:albumin - alpha1 std: 0.652\n",
      "alpha2 - beta:albumin - alpha1 std: 0.662\n",
      "alpha1 - alpha2:beta - gamma std: 0.673\n",
      "beta - gamma:alpha1 - alpha2 std: 0.683\n",
      "beta - gamma:albumin - alpha1 std: 0.711\n",
      "alpha1 - beta:alpha1 - alpha2 std: 0.773\n",
      "alpha2 - beta:alpha1 - alpha2 std: 0.773\n",
      "albumin - alpha2:alpha2 - beta std: 1.049\n",
      "albumin - beta:alpha2 - beta std: 1.049\n",
      "alpha1 - gamma:alpha2 - beta std: 1.050\n",
      "albumin - beta:albumin - alpha1 std: 1.063\n",
      "alpha1 - beta:albumin - alpha1 std: 1.063\n",
      "alpha1 - beta:beta - gamma std: 1.082\n",
      "alpha1 - gamma:beta - gamma std: 1.082\n",
      "albumin - alpha2:beta - gamma std: 1.114\n",
      "albumin - beta:alpha1 - alpha2 std: 1.124\n",
      "alpha2 - gamma:albumin - alpha1 std: 1.173\n",
      "alpha1 - gamma:alpha1 - alpha2 std: 1.261\n",
      "alpha2 - gamma:alpha1 - alpha2 std: 1.261\n",
      "albumin - gamma:alpha2 - beta std: 1.431\n",
      "albumin - beta:beta - gamma std: 1.515\n",
      "albumin - gamma:beta - gamma std: 1.515\n",
      "albumin - gamma:albumin - alpha1 std: 1.566\n",
      "alpha1 - gamma:albumin - alpha1 std: 1.566\n",
      "albumin - gamma:alpha1 - alpha2 std: 1.601\n"
     ]
    }
   ],
   "source": [
    "distance_ratio_std = {}\n",
    "for key,value in distance_ratio.items():\n",
    "    distance_ratio_std[key] = np.std(value)\n",
    "sorted_dict = {k: v for k, v in sorted(distance_ratio_std.items(), key=lambda item: item[1])}\n",
    "for key, value in sorted_dict.items():\n",
    "    print(f'{key} std: {value:.3f}')"
   ]
  },
  {
   "attachments": {},
   "cell_type": "markdown",
   "metadata": {},
   "source": [
    "std*(nominator val)?"
   ]
  },
  {
   "attachments": {},
   "cell_type": "markdown",
   "metadata": {},
   "source": [
    "# Single Method"
   ]
  },
  {
   "attachments": {},
   "cell_type": "markdown",
   "metadata": {},
   "source": [
    "## Sharp"
   ]
  },
  {
   "cell_type": "code",
   "execution_count": null,
   "metadata": {},
   "outputs": [],
   "source": [
    "for root, dir, files in os.walk(directory):\n",
    "    for file in files:\n",
    "        file_dir = os.path.join(root,file)\n",
    "\n",
    "        if file_dir.endswith('.jpg'):\n",
    "            count_all += 1\n",
    "\n",
    "            obj = spep(file_dir)\n",
    "\n",
    "            obj.evaluate()\n",
    "            obj.find_lines(['sharp'],smoothRange= 5, dentRange= 10)\n",
    "            \n",
    "            if len(obj.lines) == 5:\n",
    "                count_valid += 1\n",
    "print('Sharp image%: ', count_valid/count_all)"
   ]
  },
  {
   "attachments": {},
   "cell_type": "markdown",
   "metadata": {},
   "source": [
    "## Sharp v2"
   ]
  },
  {
   "cell_type": "code",
   "execution_count": null,
   "metadata": {},
   "outputs": [],
   "source": [
    "for root, dir, files in os.walk(directory):\n",
    "    for file in files:\n",
    "        file_dir = os.path.join(root,file)\n",
    "\n",
    "        if file_dir.endswith('.jpg'):\n",
    "            count_all += 1\n",
    "\n",
    "            obj = spep(file_dir)\n",
    "\n",
    "            obj.evaluate()\n",
    "            obj.find_lines(['sharp_v2'],smoothRange= 5, dentRange= 10)\n",
    "            \n",
    "            if len(obj.lines) == 5:\n",
    "                count_valid += 1\n",
    "print('Sharp_v2 image%: ', count_valid/count_all)"
   ]
  },
  {
   "attachments": {},
   "cell_type": "markdown",
   "metadata": {},
   "source": [
    "## Sharp v3"
   ]
  },
  {
   "cell_type": "code",
   "execution_count": null,
   "metadata": {},
   "outputs": [],
   "source": [
    "for root, dir, files in os.walk(directory):\n",
    "    for file in files:\n",
    "        file_dir = os.path.join(root,file)\n",
    "\n",
    "        if file_dir.endswith('.jpg'):\n",
    "            count_all += 1\n",
    "\n",
    "            obj = spep(file_dir)\n",
    "\n",
    "            obj.evaluate()\n",
    "            obj.find_lines(['sharp_v3'],smoothRange= 5, dentRange= 10)\n",
    "            \n",
    "            if len(obj.lines) == 5:\n",
    "                count_valid += 1\n",
    "print('Sharp_v3 image%: ', count_valid/count_all)"
   ]
  },
  {
   "attachments": {},
   "cell_type": "markdown",
   "metadata": {},
   "source": [
    "## Smooth"
   ]
  },
  {
   "cell_type": "code",
   "execution_count": null,
   "metadata": {},
   "outputs": [],
   "source": [
    "for root, dir, files in os.walk(directory):\n",
    "    for file in files:\n",
    "        file_dir = os.path.join(root,file)\n",
    "\n",
    "        if file_dir.endswith('.jpg'):\n",
    "            count_all += 1\n",
    "\n",
    "            obj = spep(file_dir)\n",
    "\n",
    "            obj.evaluate()\n",
    "            obj.find_lines(['smooth'],smoothRange= 5, dentRange= 10)\n",
    "            \n",
    "            if len(obj.lines) == 5:\n",
    "                count_valid += 1\n",
    "print('Smooth image%: ', count_valid/count_all)"
   ]
  },
  {
   "attachments": {},
   "cell_type": "markdown",
   "metadata": {},
   "source": [
    "## Dent"
   ]
  },
  {
   "cell_type": "code",
   "execution_count": null,
   "metadata": {},
   "outputs": [],
   "source": [
    "for root, dir, files in os.walk(directory):\n",
    "    for file in files:\n",
    "        file_dir = os.path.join(root,file)\n",
    "\n",
    "        if file_dir.endswith('.jpg'):\n",
    "            count_all += 1\n",
    "\n",
    "            obj = spep(file_dir)\n",
    "\n",
    "            obj.evaluate()\n",
    "            obj.find_lines(['dent'],smoothRange= 5, dentRange= 10)\n",
    "            \n",
    "            if len(obj.lines) == 5:\n",
    "                count_valid += 1\n",
    "print('Dent image%: ', count_valid/count_all)"
   ]
  }
 ],
 "metadata": {
  "kernelspec": {
   "display_name": "Python 3",
   "language": "python",
   "name": "python3"
  },
  "language_info": {
   "codemirror_mode": {
    "name": "ipython",
    "version": 3
   },
   "file_extension": ".py",
   "mimetype": "text/x-python",
   "name": "python",
   "nbconvert_exporter": "python",
   "pygments_lexer": "ipython3",
   "version": "3.10.10"
  },
  "orig_nbformat": 4,
  "vscode": {
   "interpreter": {
    "hash": "d67ffcac87830eafc64c03e64a52b8706b9437a149386b431da77ec465701e5b"
   }
  }
 },
 "nbformat": 4,
 "nbformat_minor": 2
}
