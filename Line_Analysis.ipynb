{
 "cells": [
  {
   "cell_type": "code",
   "execution_count": 1,
   "metadata": {},
   "outputs": [],
   "source": [
    "from SPEP import spep\n",
    "import os\n",
    "import numpy as np"
   ]
  },
  {
   "cell_type": "code",
   "execution_count": 2,
   "metadata": {},
   "outputs": [],
   "source": [
    "# Selecting mask and reference images\n",
    "ref_name = 'datasets/dataset_1/A/A-kappa/Z_80080808_0230_IFIX1.jpg'\n",
    "mask_name = 'datasets/dataset_1/A/A-kappa/Z_80090997_0230_IFIX1.jpg'\n",
    "directory = 'datasets'"
   ]
  },
  {
   "cell_type": "code",
   "execution_count": 3,
   "metadata": {},
   "outputs": [],
   "source": [
    "ref = spep(ref_name)\n",
    "mask = spep(mask_name)\n",
    "\n",
    "spep.albumin_reference(mask)\n",
    "spep.barLenght_reference(ref)\n",
    "spep.bar_finder(ref)"
   ]
  },
  {
   "cell_type": "code",
   "execution_count": 4,
   "metadata": {},
   "outputs": [],
   "source": [
    "count_all = 0\n",
    "count_valid = 0\n",
    "distance_ratio = {}\n",
    "distance = {}\n",
    "lines = {\"albumin\": [], \"alpha1\": [], \"alpha2\": [], \"beta\": [], \"gamma\": []}"
   ]
  },
  {
   "cell_type": "code",
   "execution_count": 5,
   "metadata": {},
   "outputs": [],
   "source": [
    "for root, dir, files in os.walk(directory):\n",
    "    for file in files:\n",
    "        file_dir = os.path.join(root,file)\n",
    "\n",
    "        if file_dir.endswith('.jpg'):\n",
    "            count_all += 1\n",
    "\n",
    "            obj = spep(file_dir)\n",
    "\n",
    "            obj.evaluate()\n",
    "            obj.find_lines(['all'],smoothRange= 5, dentRange= 10, use_combinations= True)\n",
    "            \n",
    "            if len(obj.lines) == 5:\n",
    "                count_valid += 1\n",
    "\n",
    "                for i in range(5):\n",
    "                    obj.lines[i] = 100*(obj.lines[i]/spep.bar) # Normalization\n",
    "\n",
    "                lines[\"albumin\"].append(obj.lines[0])\n",
    "                lines[\"alpha1\"].append(obj.lines[1])\n",
    "                lines[\"alpha2\"].append(obj.lines[2])\n",
    "                lines[\"beta\"].append(obj.lines[3])  \n",
    "                lines[\"gamma\"].append(obj.lines[4])\n",
    "\n",
    "                obj.line_dist()\n",
    "                for i,(key1,value1) in enumerate(obj.dist_dict.items()):\n",
    "                    for j,(key2,value2) in enumerate(obj.dist_dict.items()):\n",
    "                        if i>=j:\n",
    "                            continue\n",
    "                        else:\n",
    "                            if f'{key1}:{key2}' in distance_ratio:\n",
    "                                distance_ratio[f'{key1}:{key2}'].append(value1/value2)\n",
    "                            else:\n",
    "                                distance_ratio[f'{key1}:{key2}'] =[]\n",
    "                                distance_ratio[f'{key1}:{key2}'].append(value1/value2)\n",
    "\n",
    "                for key,value in obj.dist_dict.items():\n",
    "                    if key in distance:\n",
    "                        distance[key].append(value)\n",
    "                    else:\n",
    "                        distance[key] = list()\n",
    "                        distance[key].append(value)"
   ]
  },
  {
   "cell_type": "code",
   "execution_count": 6,
   "metadata": {},
   "outputs": [
    {
     "name": "stdout",
     "output_type": "stream",
     "text": [
      "albumin mean: 10.22\n",
      "albumin std: 6.97\n",
      "----------------------\n",
      "alpha1 mean: 27.86\n",
      "alpha1 std: 7.91\n",
      "----------------------\n",
      "alpha2 mean: 47.46\n",
      "alpha2 std: 8.00\n",
      "----------------------\n",
      "beta mean: 62.89\n",
      "beta std: 7.26\n",
      "----------------------\n",
      "gamma mean: 83.98\n",
      "gamma std: 6.72\n",
      "----------------------\n"
     ]
    }
   ],
   "source": [
    "for k, v in lines.items():\n",
    "    print(f\"{k} mean: {np.mean(v):.2f}\\n{k} std: {np.std(v):.2f}\\n----------------------\")"
   ]
  },
  {
   "cell_type": "code",
   "execution_count": 7,
   "metadata": {},
   "outputs": [
    {
     "name": "stdout",
     "output_type": "stream",
     "text": [
      "#images:  1778\n",
      "valid images:  98.26 %\n",
      "bar lenght:  184\n",
      "-----------------------\n",
      "albumin - alpha1 mean: 17.64\n",
      "albumin - alpha1 std: 5.39\n",
      "-----------------------\n",
      "albumin - alpha2 mean: 37.24\n",
      "albumin - alpha2 std: 7.89\n",
      "-----------------------\n",
      "albumin - beta mean: 52.66\n",
      "albumin - beta std: 7.81\n",
      "-----------------------\n",
      "albumin - gamma mean: 73.76\n",
      "albumin - gamma std: 8.93\n",
      "-----------------------\n",
      "alpha1 - alpha2 mean: 19.60\n",
      "alpha1 - alpha2 std: 6.20\n",
      "-----------------------\n",
      "alpha1 - beta mean: 35.02\n",
      "alpha1 - beta std: 7.17\n",
      "-----------------------\n",
      "alpha1 - gamma mean: 56.12\n",
      "alpha1 - gamma std: 9.13\n",
      "-----------------------\n",
      "alpha2 - beta mean: 15.43\n",
      "alpha2 - beta std: 5.49\n",
      "-----------------------\n",
      "alpha2 - gamma mean: 36.52\n",
      "alpha2 - gamma std: 8.02\n",
      "-----------------------\n",
      "beta - gamma mean: 21.09\n",
      "beta - gamma std: 6.59\n",
      "-----------------------\n"
     ]
    }
   ],
   "source": [
    "# Writing the findings\n",
    "print('#images: ', count_all)\n",
    "print('valid images: ',round(100*count_valid/count_all,2),'%')\n",
    "print('bar lenght: ',spep.bar)\n",
    "print('-----------------------')\n",
    "for key, value in distance.items():\n",
    "    print(f'{key} mean: {np.mean(value):.2f}\\n{key} std: {np.std(value):.2f}\\n-----------------------')"
   ]
  },
  {
   "cell_type": "code",
   "execution_count": 8,
   "metadata": {},
   "outputs": [
    {
     "name": "stdout",
     "output_type": "stream",
     "text": [
      "albumin - alpha1:albumin - alpha2 ratio mean: 0.48\n",
      "albumin - alpha1:albumin - alpha2 ratio std: 0.11\n",
      "--------------------\n",
      "albumin - alpha1:albumin - beta ratio mean: 0.34\n",
      "albumin - alpha1:albumin - beta ratio std: 0.09\n",
      "--------------------\n",
      "albumin - alpha1:albumin - gamma ratio mean: 0.24\n",
      "albumin - alpha1:albumin - gamma ratio std: 0.07\n",
      "--------------------\n",
      "albumin - alpha1:alpha1 - alpha2 ratio mean: 1.02\n",
      "albumin - alpha1:alpha1 - alpha2 ratio std: 0.59\n",
      "--------------------\n",
      "albumin - alpha1:alpha1 - beta ratio mean: 0.54\n",
      "albumin - alpha1:alpha1 - beta ratio std: 0.26\n",
      "--------------------\n",
      "albumin - alpha1:alpha1 - gamma ratio mean: 0.33\n",
      "albumin - alpha1:alpha1 - gamma ratio std: 0.16\n",
      "--------------------\n",
      "albumin - alpha1:alpha2 - beta ratio mean: 1.29\n",
      "albumin - alpha1:alpha2 - beta ratio std: 0.67\n",
      "--------------------\n",
      "albumin - alpha1:alpha2 - gamma ratio mean: 0.52\n",
      "albumin - alpha1:alpha2 - gamma ratio std: 0.28\n",
      "--------------------\n",
      "albumin - alpha1:beta - gamma ratio mean: 0.97\n",
      "albumin - alpha1:beta - gamma ratio std: 0.65\n",
      "--------------------\n",
      "albumin - alpha2:albumin - beta ratio mean: 0.71\n",
      "albumin - alpha2:albumin - beta ratio std: 0.10\n",
      "--------------------\n",
      "albumin - alpha2:albumin - gamma ratio mean: 0.51\n",
      "albumin - alpha2:albumin - gamma ratio std: 0.09\n",
      "--------------------\n",
      "albumin - alpha2:alpha1 - alpha2 ratio mean: 2.02\n",
      "albumin - alpha2:alpha1 - alpha2 ratio std: 0.59\n",
      "--------------------\n",
      "albumin - alpha2:alpha1 - beta ratio mean: 1.09\n",
      "albumin - alpha2:alpha1 - beta ratio std: 0.29\n",
      "--------------------\n",
      "albumin - alpha2:alpha1 - gamma ratio mean: 0.68\n",
      "albumin - alpha2:alpha1 - gamma ratio std: 0.19\n",
      "--------------------\n",
      "albumin - alpha2:alpha2 - beta ratio mean: 2.70\n",
      "albumin - alpha2:alpha2 - beta ratio std: 1.11\n",
      "--------------------\n",
      "albumin - alpha2:alpha2 - gamma ratio mean: 1.10\n",
      "albumin - alpha2:alpha2 - gamma ratio std: 0.45\n",
      "--------------------\n",
      "albumin - alpha2:beta - gamma ratio mean: 2.04\n",
      "albumin - alpha2:beta - gamma ratio std: 1.16\n",
      "--------------------\n",
      "albumin - beta:albumin - gamma ratio mean: 0.72\n",
      "albumin - beta:albumin - gamma ratio std: 0.08\n",
      "--------------------\n",
      "albumin - beta:alpha1 - alpha2 ratio mean: 2.96\n",
      "albumin - beta:alpha1 - alpha2 ratio std: 1.13\n",
      "--------------------\n",
      "albumin - beta:alpha1 - beta ratio mean: 1.54\n",
      "albumin - beta:alpha1 - beta ratio std: 0.26\n",
      "--------------------\n",
      "albumin - beta:alpha1 - gamma ratio mean: 0.96\n",
      "albumin - beta:alpha1 - gamma ratio std: 0.19\n",
      "--------------------\n",
      "albumin - beta:alpha2 - beta ratio mean: 3.70\n",
      "albumin - beta:alpha2 - beta ratio std: 1.11\n",
      "--------------------\n",
      "albumin - beta:alpha2 - gamma ratio mean: 1.52\n",
      "albumin - beta:alpha2 - gamma ratio std: 0.48\n",
      "--------------------\n",
      "albumin - beta:beta - gamma ratio mean: 2.89\n",
      "albumin - beta:beta - gamma ratio std: 1.56\n",
      "--------------------\n",
      "albumin - gamma:alpha1 - alpha2 ratio mean: 4.17\n",
      "albumin - gamma:alpha1 - alpha2 ratio std: 1.61\n",
      "--------------------\n",
      "albumin - gamma:alpha1 - beta ratio mean: 2.17\n",
      "albumin - gamma:alpha1 - beta ratio std: 0.41\n",
      "--------------------\n",
      "albumin - gamma:alpha1 - gamma ratio mean: 1.33\n",
      "albumin - gamma:alpha1 - gamma ratio std: 0.16\n",
      "--------------------\n",
      "albumin - gamma:alpha2 - beta ratio mean: 5.20\n",
      "albumin - gamma:alpha2 - beta ratio std: 1.51\n",
      "--------------------\n",
      "albumin - gamma:alpha2 - gamma ratio mean: 2.10\n",
      "albumin - gamma:alpha2 - gamma ratio std: 0.45\n",
      "--------------------\n",
      "albumin - gamma:beta - gamma ratio mean: 3.89\n",
      "albumin - gamma:beta - gamma ratio std: 1.56\n",
      "--------------------\n",
      "alpha1 - alpha2:alpha1 - beta ratio mean: 0.56\n",
      "alpha1 - alpha2:alpha1 - beta ratio std: 0.12\n",
      "--------------------\n",
      "alpha1 - alpha2:alpha1 - gamma ratio mean: 0.35\n",
      "alpha1 - alpha2:alpha1 - gamma ratio std: 0.09\n",
      "--------------------\n",
      "alpha1 - alpha2:alpha2 - beta ratio mean: 1.42\n",
      "alpha1 - alpha2:alpha2 - beta ratio std: 0.68\n",
      "--------------------\n",
      "alpha1 - alpha2:alpha2 - gamma ratio mean: 0.57\n",
      "alpha1 - alpha2:alpha2 - gamma ratio std: 0.28\n",
      "--------------------\n",
      "alpha1 - alpha2:beta - gamma ratio mean: 1.06\n",
      "alpha1 - alpha2:beta - gamma ratio std: 0.71\n",
      "--------------------\n",
      "alpha1 - beta:alpha1 - gamma ratio mean: 0.63\n",
      "alpha1 - beta:alpha1 - gamma ratio std: 0.09\n",
      "--------------------\n",
      "alpha1 - beta:alpha2 - beta ratio mean: 2.42\n",
      "alpha1 - beta:alpha2 - beta ratio std: 0.68\n",
      "--------------------\n",
      "alpha1 - beta:alpha2 - gamma ratio mean: 1.00\n",
      "alpha1 - beta:alpha2 - gamma ratio std: 0.31\n",
      "--------------------\n",
      "alpha1 - beta:beta - gamma ratio mean: 1.91\n",
      "alpha1 - beta:beta - gamma ratio std: 1.11\n",
      "--------------------\n",
      "alpha1 - gamma:alpha2 - beta ratio mean: 3.92\n",
      "alpha1 - gamma:alpha2 - beta ratio std: 1.11\n",
      "--------------------\n",
      "alpha1 - gamma:alpha2 - gamma ratio mean: 1.57\n",
      "alpha1 - gamma:alpha2 - gamma ratio std: 0.28\n",
      "--------------------\n",
      "alpha1 - gamma:beta - gamma ratio mean: 2.91\n",
      "alpha1 - gamma:beta - gamma ratio std: 1.11\n",
      "--------------------\n",
      "alpha2 - beta:alpha2 - gamma ratio mean: 0.43\n",
      "alpha2 - beta:alpha2 - gamma ratio std: 0.11\n",
      "--------------------\n",
      "alpha2 - beta:beta - gamma ratio mean: 0.85\n",
      "alpha2 - beta:beta - gamma ratio std: 0.61\n",
      "--------------------\n",
      "alpha2 - gamma:beta - gamma ratio mean: 1.85\n",
      "alpha2 - gamma:beta - gamma ratio std: 0.61\n",
      "--------------------\n"
     ]
    }
   ],
   "source": [
    "for key,value in distance_ratio.items():\n",
    "    print(f'{key} ratio mean: {np.mean(value):.2f}')\n",
    "    print(f'{key} ratio std: {np.std(value):.2f}\\n--------------------')"
   ]
  },
  {
   "cell_type": "code",
   "execution_count": 9,
   "metadata": {},
   "outputs": [
    {
     "name": "stdout",
     "output_type": "stream",
     "text": [
      "albumin - alpha1:albumin - gamma std: 0.073\n",
      "albumin - beta:albumin - gamma std: 0.077\n",
      "albumin - alpha1:albumin - beta std: 0.088\n",
      "alpha1 - beta:alpha1 - gamma std: 0.091\n",
      "albumin - alpha2:albumin - gamma std: 0.091\n",
      "alpha1 - alpha2:alpha1 - gamma std: 0.093\n",
      "albumin - alpha2:albumin - beta std: 0.096\n",
      "albumin - alpha1:albumin - alpha2 std: 0.107\n",
      "alpha2 - beta:alpha2 - gamma std: 0.113\n",
      "alpha1 - alpha2:alpha1 - beta std: 0.117\n",
      "albumin - alpha1:alpha1 - gamma std: 0.159\n",
      "albumin - gamma:alpha1 - gamma std: 0.159\n",
      "albumin - alpha2:alpha1 - gamma std: 0.191\n",
      "albumin - beta:alpha1 - gamma std: 0.191\n",
      "albumin - alpha1:alpha1 - beta std: 0.260\n",
      "albumin - beta:alpha1 - beta std: 0.260\n",
      "albumin - alpha1:alpha2 - gamma std: 0.277\n",
      "alpha1 - alpha2:alpha2 - gamma std: 0.278\n",
      "alpha1 - gamma:alpha2 - gamma std: 0.278\n",
      "albumin - alpha2:alpha1 - beta std: 0.288\n",
      "alpha1 - beta:alpha2 - gamma std: 0.308\n",
      "albumin - gamma:alpha1 - beta std: 0.414\n",
      "albumin - alpha2:alpha2 - gamma std: 0.453\n",
      "albumin - gamma:alpha2 - gamma std: 0.453\n",
      "albumin - beta:alpha2 - gamma std: 0.479\n",
      "albumin - alpha1:alpha1 - alpha2 std: 0.589\n",
      "albumin - alpha2:alpha1 - alpha2 std: 0.589\n",
      "alpha2 - gamma:beta - gamma std: 0.605\n",
      "alpha2 - beta:beta - gamma std: 0.605\n",
      "albumin - alpha1:beta - gamma std: 0.648\n",
      "albumin - alpha1:alpha2 - beta std: 0.671\n",
      "alpha1 - alpha2:alpha2 - beta std: 0.677\n",
      "alpha1 - beta:alpha2 - beta std: 0.677\n",
      "alpha1 - alpha2:beta - gamma std: 0.705\n",
      "alpha1 - gamma:alpha2 - beta std: 1.106\n",
      "alpha1 - beta:beta - gamma std: 1.109\n",
      "alpha1 - gamma:beta - gamma std: 1.109\n",
      "albumin - alpha2:alpha2 - beta std: 1.112\n",
      "albumin - beta:alpha2 - beta std: 1.112\n",
      "albumin - beta:alpha1 - alpha2 std: 1.130\n",
      "albumin - alpha2:beta - gamma std: 1.164\n",
      "albumin - gamma:alpha2 - beta std: 1.511\n",
      "albumin - beta:beta - gamma std: 1.555\n",
      "albumin - gamma:beta - gamma std: 1.555\n",
      "albumin - gamma:alpha1 - alpha2 std: 1.611\n"
     ]
    }
   ],
   "source": [
    "distance_ratio_std = {}\n",
    "for key,value in distance_ratio.items():\n",
    "    distance_ratio_std[key] = np.std(value)\n",
    "sorted_dict = {k: v for k, v in sorted(distance_ratio_std.items(), key=lambda item: item[1])}\n",
    "for key, value in sorted_dict.items():\n",
    "    print(f'{key} std: {value:.3f}')"
   ]
  },
  {
   "attachments": {},
   "cell_type": "markdown",
   "metadata": {},
   "source": [
    "# Single Method"
   ]
  },
  {
   "attachments": {},
   "cell_type": "markdown",
   "metadata": {},
   "source": [
    "## Sharp"
   ]
  },
  {
   "cell_type": "code",
   "execution_count": 10,
   "metadata": {},
   "outputs": [
    {
     "name": "stdout",
     "output_type": "stream",
     "text": [
      "Sharp method validation: 16.03%\n"
     ]
    }
   ],
   "source": [
    "count_valid = 0\n",
    "count_all = 0\n",
    "for root, dir, files in os.walk(directory):\n",
    "    for file in files:\n",
    "        file_dir = os.path.join(root,file)\n",
    "\n",
    "        if file_dir.endswith('.jpg'):\n",
    "            count_all += 1\n",
    "\n",
    "            obj = spep(file_dir)\n",
    "\n",
    "            obj.evaluate()\n",
    "            obj.find_lines(['sharp'],smoothRange= 5, dentRange= 10, increase_spec= False)\n",
    "            \n",
    "            if len(obj.lines) == 5:\n",
    "                count_valid += 1\n",
    "print(f'Sharp method validation: {100*count_valid/count_all:.2f}%')"
   ]
  },
  {
   "attachments": {},
   "cell_type": "markdown",
   "metadata": {},
   "source": [
    "## Sharp v2"
   ]
  },
  {
   "cell_type": "code",
   "execution_count": 11,
   "metadata": {},
   "outputs": [
    {
     "name": "stdout",
     "output_type": "stream",
     "text": [
      "Sharp_v2 method validation: 5.46%\n"
     ]
    }
   ],
   "source": [
    "count_valid = 0\n",
    "count_all = 0\n",
    "for root, dir, files in os.walk(directory):\n",
    "    for file in files:\n",
    "        file_dir = os.path.join(root,file)\n",
    "\n",
    "        if file_dir.endswith('.jpg'):\n",
    "            count_all += 1\n",
    "\n",
    "            obj = spep(file_dir)\n",
    "\n",
    "            obj.evaluate()\n",
    "            obj.find_lines(['sharp_v2'],smoothRange= 5, dentRange= 10, increase_spec= False)\n",
    "            \n",
    "            if len(obj.lines) == 5:\n",
    "                count_valid += 1\n",
    "print(f'Sharp_v2 method validation: {100*count_valid/count_all:.2f}%')"
   ]
  },
  {
   "attachments": {},
   "cell_type": "markdown",
   "metadata": {},
   "source": [
    "## Sharp v3"
   ]
  },
  {
   "cell_type": "code",
   "execution_count": 12,
   "metadata": {},
   "outputs": [
    {
     "name": "stdout",
     "output_type": "stream",
     "text": [
      "Sharp_v3 method validation: 6.36%\n"
     ]
    }
   ],
   "source": [
    "count_valid = 0\n",
    "count_all = 0\n",
    "for root, dir, files in os.walk(directory):\n",
    "    for file in files:\n",
    "        file_dir = os.path.join(root,file)\n",
    "\n",
    "        if file_dir.endswith('.jpg'):\n",
    "            count_all += 1\n",
    "\n",
    "            obj = spep(file_dir)\n",
    "\n",
    "            obj.evaluate()\n",
    "            obj.find_lines(['sharp_v3'],smoothRange= 5, dentRange= 10, increase_spec= False)\n",
    "            \n",
    "            if len(obj.lines) == 5:\n",
    "                count_valid += 1\n",
    "print(f'Sharp_v3 method validation: {100*count_valid/count_all:.2f}%')"
   ]
  },
  {
   "attachments": {},
   "cell_type": "markdown",
   "metadata": {},
   "source": [
    "## Smooth"
   ]
  },
  {
   "cell_type": "code",
   "execution_count": 13,
   "metadata": {},
   "outputs": [
    {
     "name": "stdout",
     "output_type": "stream",
     "text": [
      "Smooth method validation: 0.67%\n"
     ]
    }
   ],
   "source": [
    "count_valid = 0\n",
    "count_all = 0\n",
    "for root, dir, files in os.walk(directory):\n",
    "    for file in files:\n",
    "        file_dir = os.path.join(root,file)\n",
    "\n",
    "        if file_dir.endswith('.jpg'):\n",
    "            count_all += 1\n",
    "\n",
    "            obj = spep(file_dir)\n",
    "\n",
    "            obj.evaluate()\n",
    "            obj.find_lines(['smooth'],smoothRange= 5, dentRange= 10, increase_spec= False)\n",
    "            \n",
    "            if len(obj.lines) == 5:\n",
    "                count_valid += 1\n",
    "print(f'Smooth method validation: {100*count_valid/count_all:.2f}%')"
   ]
  },
  {
   "attachments": {},
   "cell_type": "markdown",
   "metadata": {},
   "source": [
    "## Dent"
   ]
  },
  {
   "cell_type": "code",
   "execution_count": 14,
   "metadata": {},
   "outputs": [],
   "source": [
    "count_valid = 0\n",
    "count_all = 0\n",
    "for root, dir, files in os.walk(directory):\n",
    "    for file in files:\n",
    "        file_dir = os.path.join(root,file)\n",
    "\n",
    "        if file_dir.endswith('.jpg'):\n",
    "            count_all += 1\n",
    "\n",
    "            obj = spep(file_dir)\n",
    "\n",
    "            obj.evaluate()\n",
    "            obj.find_lines(['dent'],smoothRange= 5, dentRange= 10, increase_spec= False)\n",
    "            \n",
    "            if len(obj.lines) == 5:\n",
    "                count_valid += 1\n",
    "print(f'Dent method validation: {100*count_valid/count_all:.2f}%')"
   ]
  },
  {
   "attachments": {},
   "cell_type": "markdown",
   "metadata": {},
   "source": [
    "# Smooth-Dent"
   ]
  },
  {
   "cell_type": "code",
   "execution_count": null,
   "metadata": {},
   "outputs": [
    {
     "name": "stdout",
     "output_type": "stream",
     "text": [
      "Dent method validation: 77.39%\n"
     ]
    }
   ],
   "source": [
    "count_valid = 0\n",
    "count_all = 0\n",
    "for root, dir, files in os.walk(directory):\n",
    "    for file in files:\n",
    "        file_dir = os.path.join(root,file)\n",
    "\n",
    "        if file_dir.endswith('.jpg'):\n",
    "            count_all += 1\n",
    "\n",
    "            obj = spep(file_dir)\n",
    "\n",
    "            obj.evaluate()\n",
    "            obj.find_lines(['smooth','dent'],smoothRange= 5, dentRange= 10, increase_spec= False)\n",
    "            \n",
    "            if len(obj.lines) == 5:\n",
    "                count_valid += 1\n",
    "print(f'Dent method validation: {100*count_valid/count_all:.2f}%')"
   ]
  }
 ],
 "metadata": {
  "kernelspec": {
   "display_name": "Python 3",
   "language": "python",
   "name": "python3"
  },
  "language_info": {
   "codemirror_mode": {
    "name": "ipython",
    "version": 3
   },
   "file_extension": ".py",
   "mimetype": "text/x-python",
   "name": "python",
   "nbconvert_exporter": "python",
   "pygments_lexer": "ipython3",
   "version": "3.10.10"
  },
  "orig_nbformat": 4,
  "vscode": {
   "interpreter": {
    "hash": "d67ffcac87830eafc64c03e64a52b8706b9437a149386b431da77ec465701e5b"
   }
  }
 },
 "nbformat": 4,
 "nbformat_minor": 2
}
